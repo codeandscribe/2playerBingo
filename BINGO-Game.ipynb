{
 "cells": [
  {
   "cell_type": "code",
   "execution_count": 1,
   "id": "8d2c310c-7898-4d19-b63a-5aefd1296cd6",
   "metadata": {},
   "outputs": [],
   "source": [
    "import pandas as pd\n",
    "import numpy as np\n",
    "import random"
   ]
  },
  {
   "cell_type": "code",
   "execution_count": 2,
   "id": "e361bb82-0b9f-427d-8894-5cf327015df0",
   "metadata": {},
   "outputs": [],
   "source": [
    "class player:\n",
    "    def __init__(self):\n",
    "        self.final_result = [\"B\", \"I\", \"N\", \"G\", \"O\"]\n",
    "        self.full_list = [num for num in range(1, 26)]\n",
    "        random.shuffle(self.full_list)\n",
    "        self.grid = np.reshape(self.full_list, newshape=(5,5))\n",
    "        self.bool_grid = np.zeros((5,5))\n",
    "        self.bool_grid = self.bool_grid == 1\n",
    "        self.message = \"\"\n",
    "        self.dup_grid = []\n",
    "        for i in range(5):\n",
    "            row = []\n",
    "            for j in range(5):\n",
    "                row.append(str(self.grid[i,j]).zfill(2))\n",
    "            self.dup_grid.append(row)\n",
    "        \n",
    "    def update_bool_grid(self, user_input):\n",
    "        i, j = np.transpose((self.grid == user_input).nonzero())[0]\n",
    "        self.bool_grid[i, j] = True\n",
    "        self.dup_grid[i][j] = \"**\"\n",
    "    \n",
    "    def player_turn(self, user_input):\n",
    "        self.update_bool_grid(user_input)\n",
    "        counter = self.bingo_counter()\n",
    "        message = \"\"\n",
    "        if counter > 0:\n",
    "            self.message = \"\".join(self.final_result[:counter])\n",
    "    \n",
    "    def bingo_counter(self):\n",
    "        counter = 0\n",
    "        on_diag = []\n",
    "        off_diag = []\n",
    "        for i in range(5):\n",
    "            if sum(self.bool_grid[i,:]) == 5:\n",
    "                counter += 1\n",
    "            if sum(self.bool_grid[:, i]) == 5:\n",
    "                counter += 1\n",
    "            on_diag.append(self.bool_grid[i,i])\n",
    "            off_diag.append(self.bool_grid[i, 4-i])\n",
    "        if sum(on_diag) == 5:\n",
    "            counter += 1\n",
    "        if sum(off_diag) == 5:\n",
    "            counter += 1\n",
    "        return counter\n",
    "    \n",
    "    def print_grid(self):\n",
    "        for i, row in enumerate(self.bool_grid):\n",
    "            for j, column in enumerate(row):\n",
    "                if column:\n",
    "                    print(\"|**\", end=\"\")\n",
    "                else:\n",
    "                    print(f\"|{self.dup_grid[i][j]}\", end=\"\")\n",
    "            print(\"|\")"
   ]
  },
  {
   "cell_type": "code",
   "execution_count": 3,
   "id": "41e9b84e-29ea-466f-a9f1-4c17b19cff6b",
   "metadata": {},
   "outputs": [],
   "source": [
    "class turn:\n",
    "    def __init__(self):\n",
    "        self.user_input_list = [num for num in range(1, 26)]\n",
    "        \n",
    "    def auto_choice(self):\n",
    "        user_input = random.choices(self.user_input_list, k=1)[0]\n",
    "        self.user_input_list = list(set(self.user_input_list) - set([user_input]))\n",
    "        return user_input\n",
    "    \n",
    "    def user_choice(self):\n",
    "        user_input = int(input(\"Enter a number: \"))\n",
    "        self.user_input_list = list(set(self.user_input_list) - set([user_input]))\n",
    "        return user_input"
   ]
  },
  {
   "cell_type": "code",
   "execution_count": 4,
   "id": "ce87c844-8544-4181-9991-b833187e109c",
   "metadata": {},
   "outputs": [],
   "source": [
    "A = player()\n",
    "B = player()\n",
    "turns = turn()"
   ]
  },
  {
   "cell_type": "code",
   "execution_count": 5,
   "id": "cbbc7aff-acd1-4fa5-823e-048ea4729754",
   "metadata": {},
   "outputs": [],
   "source": [
    "first_player = \"A\"\n",
    "user = \"B\""
   ]
  },
  {
   "cell_type": "code",
   "execution_count": 6,
   "id": "9cb62931-f58b-424a-9fec-3816aa68c7c1",
   "metadata": {},
   "outputs": [],
   "source": [
    "if first_player == \"A\":\n",
    "    turns_ = [\"A\", \"B\"]\n",
    "    players = [A, B]\n",
    "else:\n",
    "    turns_ = [\"B\", \"A\"]\n",
    "    players = [B, A]"
   ]
  },
  {
   "cell_type": "code",
   "execution_count": 7,
   "id": "fd130368-133f-4b84-b738-68ee5ce3c4f0",
   "metadata": {},
   "outputs": [
    {
     "name": "stdout",
     "output_type": "stream",
     "text": [
      "[[ 7  2 10  5 12]\n",
      " [ 9 14 20  6 22]\n",
      " [21 19  3 17 18]\n",
      " [24 25  4 13 23]\n",
      " [ 1 15  8 11 16]]\n"
     ]
    }
   ],
   "source": [
    "if first_player == user:\n",
    "    print(players[0].grid)\n",
    "else:\n",
    "    print(players[1].grid)"
   ]
  },
  {
   "cell_type": "code",
   "execution_count": 8,
   "id": "cc8f5c93-81fa-40a3-b5fc-6a0e210cc1f0",
   "metadata": {},
   "outputs": [
    {
     "name": "stdout",
     "output_type": "stream",
     "text": [
      "|07|02|10|05|12|\n",
      "|09|14|20|06|22|\n",
      "|21|19|03|17|18|\n",
      "|24|25|**|13|23|\n",
      "|01|15|08|11|16|\n",
      "\n"
     ]
    },
    {
     "name": "stdin",
     "output_type": "stream",
     "text": [
      "Enter a number:  16\n"
     ]
    },
    {
     "name": "stdout",
     "output_type": "stream",
     "text": [
      "|07|02|10|05|12|\n",
      "|09|14|20|06|22|\n",
      "|21|19|03|17|18|\n",
      "|24|25|**|13|23|\n",
      "|01|15|08|11|**|\n",
      "\n",
      "|07|02|10|05|**|\n",
      "|09|14|20|06|22|\n",
      "|21|19|03|17|18|\n",
      "|24|25|**|13|23|\n",
      "|01|15|08|11|**|\n",
      "\n"
     ]
    },
    {
     "name": "stdin",
     "output_type": "stream",
     "text": [
      "Enter a number:  01\n"
     ]
    },
    {
     "name": "stdout",
     "output_type": "stream",
     "text": [
      "|07|02|10|05|**|\n",
      "|09|14|20|06|22|\n",
      "|21|19|03|17|18|\n",
      "|24|25|**|13|23|\n",
      "|**|15|08|11|**|\n",
      "\n",
      "|07|02|10|05|**|\n",
      "|09|14|20|06|22|\n",
      "|21|19|03|17|18|\n",
      "|24|**|**|13|23|\n",
      "|**|15|08|11|**|\n",
      "\n"
     ]
    },
    {
     "name": "stdin",
     "output_type": "stream",
     "text": [
      "Enter a number:  07\n"
     ]
    },
    {
     "name": "stdout",
     "output_type": "stream",
     "text": [
      "|**|02|10|05|**|\n",
      "|09|14|20|06|22|\n",
      "|21|19|03|17|18|\n",
      "|24|**|**|13|23|\n",
      "|**|15|08|11|**|\n",
      "\n",
      "|**|02|10|05|**|\n",
      "|09|14|**|06|22|\n",
      "|21|19|03|17|18|\n",
      "|24|**|**|13|23|\n",
      "|**|15|08|11|**|\n",
      "\n"
     ]
    },
    {
     "name": "stdin",
     "output_type": "stream",
     "text": [
      "Enter a number:  03\n"
     ]
    },
    {
     "name": "stdout",
     "output_type": "stream",
     "text": [
      "|**|02|10|05|**|\n",
      "|09|14|**|06|22|\n",
      "|21|19|**|17|18|\n",
      "|24|**|**|13|23|\n",
      "|**|15|08|11|**|\n",
      "\n",
      "|**|02|10|05|**|\n",
      "|09|14|**|06|22|\n",
      "|21|19|**|17|18|\n",
      "|24|**|**|**|23|\n",
      "|**|15|08|11|**|\n",
      "\n"
     ]
    },
    {
     "name": "stdin",
     "output_type": "stream",
     "text": [
      "Enter a number:  06\n"
     ]
    },
    {
     "name": "stdout",
     "output_type": "stream",
     "text": [
      "|**|02|10|05|**|\n",
      "|09|14|**|**|22|\n",
      "|21|19|**|17|18|\n",
      "|24|**|**|**|23|\n",
      "|**|15|08|11|**|\n",
      "\n",
      "|**|02|10|05|**|\n",
      "|09|14|**|**|22|\n",
      "|21|19|**|**|18|\n",
      "|24|**|**|**|23|\n",
      "|**|15|08|11|**|\n",
      "\n"
     ]
    },
    {
     "name": "stdin",
     "output_type": "stream",
     "text": [
      "Enter a number:  14\n"
     ]
    },
    {
     "name": "stdout",
     "output_type": "stream",
     "text": [
      "|**|02|10|05|**|\n",
      "|09|**|**|**|22|\n",
      "|21|19|**|**|18|\n",
      "|24|**|**|**|23|\n",
      "|**|15|08|11|**|\n",
      "\n",
      "|**|02|10|05|**|\n",
      "|09|**|**|**|22|\n",
      "|21|19|**|**|18|\n",
      "|24|**|**|**|23|\n",
      "|**|15|**|11|**|\n",
      "\n"
     ]
    },
    {
     "name": "stdin",
     "output_type": "stream",
     "text": [
      "Enter a number:  22\n"
     ]
    },
    {
     "name": "stdout",
     "output_type": "stream",
     "text": [
      "|**|02|10|05|**|\n",
      "|09|**|**|**|**|\n",
      "|21|19|**|**|18|\n",
      "|24|**|**|**|23|\n",
      "|**|15|**|11|**|\n",
      "\n",
      "|**|02|10|05|**|\n",
      "|09|**|**|**|**|\n",
      "|21|19|**|**|18|\n",
      "|24|**|**|**|23|\n",
      "|**|15|**|**|**|\n",
      "\n"
     ]
    },
    {
     "name": "stdin",
     "output_type": "stream",
     "text": [
      "Enter a number:  09\n"
     ]
    },
    {
     "name": "stdout",
     "output_type": "stream",
     "text": [
      "|**|02|10|05|**|\n",
      "|**|**|**|**|**|\n",
      "|21|19|**|**|18|\n",
      "|24|**|**|**|23|\n",
      "|**|15|**|**|**|\n",
      "\n",
      "|**|02|10|05|**|\n",
      "|**|**|**|**|**|\n",
      "|21|19|**|**|18|\n",
      "|24|**|**|**|23|\n",
      "|**|**|**|**|**|\n",
      "\n"
     ]
    },
    {
     "name": "stdin",
     "output_type": "stream",
     "text": [
      "Enter a number:  10\n"
     ]
    },
    {
     "name": "stdout",
     "output_type": "stream",
     "text": [
      "|**|02|**|05|**|\n",
      "|**|**|**|**|**|\n",
      "|21|19|**|**|18|\n",
      "|24|**|**|**|23|\n",
      "|**|**|**|**|**|\n",
      "\n",
      "You Win\n"
     ]
    }
   ],
   "source": [
    "turn_number = 0\n",
    "flag = 0\n",
    "while flag==0:\n",
    "    player_ = turn_number % 2\n",
    "    turn_number += 1\n",
    "    player_name = turns_[player_]\n",
    "    if player_name == user:\n",
    "        user_choice = turns.user_choice()\n",
    "    else:\n",
    "        user_choice = turns.auto_choice()\n",
    "    players[0].player_turn(user_choice)\n",
    "    players[1].player_turn(user_choice)\n",
    "    if (first_player == user):\n",
    "        players[0].print_grid()\n",
    "    else:\n",
    "        players[1].print_grid()\n",
    "    print()\n",
    "    if players[player_].message == \"BINGO\":\n",
    "        if player_name == user:\n",
    "            print(\"You Win\")\n",
    "        else:\n",
    "            print(\"Computer Wins\")\n",
    "        flag = 1"
   ]
  },
  {
   "cell_type": "code",
   "execution_count": 57,
   "id": "1e87943c-613a-4bf4-9621-24d46854bfab",
   "metadata": {},
   "outputs": [
    {
     "name": "stdin",
     "output_type": "stream",
     "text": [
      "Enter a number:  5\n"
     ]
    },
    {
     "data": {
      "text/plain": [
       "5"
      ]
     },
     "execution_count": 57,
     "metadata": {},
     "output_type": "execute_result"
    }
   ],
   "source": []
  },
  {
   "cell_type": "code",
   "execution_count": null,
   "id": "7cacc613-99cc-4e46-8e4c-5c51e3a6c998",
   "metadata": {},
   "outputs": [],
   "source": []
  }
 ],
 "metadata": {
  "kernelspec": {
   "display_name": "Python 3 (ipykernel)",
   "language": "python",
   "name": "python3"
  },
  "language_info": {
   "codemirror_mode": {
    "name": "ipython",
    "version": 3
   },
   "file_extension": ".py",
   "mimetype": "text/x-python",
   "name": "python",
   "nbconvert_exporter": "python",
   "pygments_lexer": "ipython3",
   "version": "3.9.13"
  }
 },
 "nbformat": 4,
 "nbformat_minor": 5
}
