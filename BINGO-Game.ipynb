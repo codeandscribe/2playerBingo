{
 "cells": [
  {
   "cell_type": "code",
   "execution_count": 1,
   "id": "8d2c310c-7898-4d19-b63a-5aefd1296cd6",
   "metadata": {},
   "outputs": [],
   "source": [
    "import pandas as pd\n",
    "import numpy as np\n",
    "import random"
   ]
  },
  {
   "cell_type": "code",
   "execution_count": 2,
   "id": "e361bb82-0b9f-427d-8894-5cf327015df0",
   "metadata": {},
   "outputs": [],
   "source": [
    "class player:\n",
    "    def __init__(self):\n",
    "        self.final_result = [\"B\", \"I\", \"N\", \"G\", \"O\"]\n",
    "        self.full_list = [num for num in range(1, 26)]\n",
    "        random.shuffle(self.full_list)\n",
    "        self.grid = np.reshape(self.full_list, newshape=(5,5))\n",
    "        self.bool_grid = np.zeros((5,5))\n",
    "        self.bool_grid = self.bool_grid == 1\n",
    "        self.message = \"\"\n",
    "        self.dup_grid = []\n",
    "        for i in range(5):\n",
    "            row = []\n",
    "            for j in range(5):\n",
    "                row.append(str(self.grid[i,j]).zfill(2))\n",
    "            self.dup_grid.append(row)\n",
    "        \n",
    "    def update_bool_grid(self, user_input):\n",
    "        i, j = np.transpose((self.grid == user_input).nonzero())[0]\n",
    "        self.bool_grid[i, j] = True\n",
    "        self.dup_grid[i][j] = \"**\"\n",
    "    \n",
    "    def player_turn(self, user_input):\n",
    "        self.update_bool_grid(user_input)\n",
    "        counter = self.bingo_counter()\n",
    "        message = \"\"\n",
    "        if counter > 0:\n",
    "            self.message = \"\".join(self.final_result[:counter])\n",
    "    \n",
    "    def bingo_counter(self):\n",
    "        counter = 0\n",
    "        on_diag = []\n",
    "        off_diag = []\n",
    "        for i in range(5):\n",
    "            if sum(self.bool_grid[i,:]) == 5:\n",
    "                counter += 1\n",
    "            if sum(self.bool_grid[:, i]) == 5:\n",
    "                counter += 1\n",
    "            on_diag.append(self.bool_grid[i,i])\n",
    "            off_diag.append(self.bool_grid[i, 4-i])\n",
    "        if sum(on_diag) == 5:\n",
    "            counter += 1\n",
    "        if sum(off_diag) == 5:\n",
    "            counter += 1\n",
    "        return counter\n",
    "    \n",
    "    def print_grid(self):\n",
    "        for i, row in enumerate(self.bool_grid):\n",
    "            for j, column in enumerate(row):\n",
    "                if column:\n",
    "                    print(\"|**\", end=\"\")\n",
    "                else:\n",
    "                    print(f\"|{self.dup_grid[i][j]}\", end=\"\")\n",
    "            print(\"|\")"
   ]
  },
  {
   "cell_type": "code",
   "execution_count": 3,
   "id": "9e9e1a39-ce02-404c-bf57-a6e4e9d8b55c",
   "metadata": {},
   "outputs": [],
   "source": [
    "class user(player):\n",
    "    def next_choice(self, user_input_list, level=\"\"):\n",
    "        user_input = input(\"Enter a number: \")\n",
    "        try:\n",
    "            user_input = int(user_input)\n",
    "        except Exception:\n",
    "            print(\"Not integer. Please enter an integer.\")\n",
    "            self.next_choice()\n",
    "        if user_input in user_input_list:\n",
    "            user_input_list = list(set(user_input_list) - set([user_input]))\n",
    "            return user_input, user_input_list\n",
    "        else:\n",
    "            print(\"Not between 1 and 25. Enter again\")\n",
    "            self.next_choice()\n",
    "            \n",
    "class computer(player):\n",
    "    def random_choice(self, user_input_list):\n",
    "        user_input = random.choices(user_input_list, k=1)[0]\n",
    "        user_input_list = list(set(user_input_list) - set([user_input]))\n",
    "        return user_input, user_input_list\n",
    "    \n",
    "    def row_opt_choice(self, user_input_list):\n",
    "        grid_ = np.array(self.dup_grid)\n",
    "        possible_values = np.transpose((grid_ != \"**\").nonzero())\n",
    "        unique, counts = np.unique(possible_values.transpose()[0], return_counts=True)\n",
    "        row =  [unique[i] for i,num in enumerate(counts) if num == 1]\n",
    "        if len(row) > 0:\n",
    "            row = row[0]\n",
    "            i,j = [value for value in possible_values if value[0]==row][0]\n",
    "            user_input = int(grid_[i,j])\n",
    "            user_input_list = list(set(user_input_list) - set([user_input]))\n",
    "            return user_input, user_input_list\n",
    "        else:\n",
    "            return 26, user_input_list\n",
    "    \n",
    "    def column_opt_choice(self, user_input_list):\n",
    "        grid_ = np.array(self.dup_grid)\n",
    "        possible_values = np.transpose((grid_ != \"**\").nonzero())\n",
    "        unique, counts = np.unique(possible_values.transpose()[1], return_counts=True)\n",
    "        column =  [unique[i] for i,num in enumerate(counts) if num == 1]\n",
    "        if len(column) > 0:\n",
    "            column = column[0]\n",
    "            i,j = [value for value in possible_values if value[1]==column][0]\n",
    "            user_input = int(grid_[i,j])\n",
    "            user_input_list = list(set(user_input_list) - set([user_input]))\n",
    "            return user_input, user_input_list\n",
    "        else:\n",
    "            return 26, user_input_list\n",
    "    \n",
    "    def next_choice(self, user_input_list, level=\"easy\"):\n",
    "        if level == \"easy\":\n",
    "            user_input, user_input_list = self.random_choice(user_input_list)\n",
    "        if level == \"medium\":\n",
    "            user_input, user_input_list = self.row_opt_choice(user_input_list)\n",
    "            if user_input == 26:\n",
    "                user_input, user_input_list = self.column_opt_choice(user_input_list)\n",
    "            if user_input == 26:\n",
    "                user_input, user_input_list = self.random_choice(user_input_list)\n",
    "        return user_input, user_input_list"
   ]
  },
  {
   "cell_type": "code",
   "execution_count": 4,
   "id": "41e9b84e-29ea-466f-a9f1-4c17b19cff6b",
   "metadata": {},
   "outputs": [],
   "source": [
    "user_input_list = [num for num in range(1, 26)]"
   ]
  },
  {
   "cell_type": "code",
   "execution_count": 5,
   "id": "ce87c844-8544-4181-9991-b833187e109c",
   "metadata": {},
   "outputs": [],
   "source": [
    "A = computer()\n",
    "B = user()"
   ]
  },
  {
   "cell_type": "code",
   "execution_count": 6,
   "id": "cbbc7aff-acd1-4fa5-823e-048ea4729754",
   "metadata": {},
   "outputs": [],
   "source": [
    "first_player = \"A\"\n",
    "user = \"B\""
   ]
  },
  {
   "cell_type": "code",
   "execution_count": 7,
   "id": "9cb62931-f58b-424a-9fec-3816aa68c7c1",
   "metadata": {},
   "outputs": [],
   "source": [
    "if first_player == \"A\":\n",
    "    turns_ = [\"A\", \"B\"]\n",
    "    players = [A, B]\n",
    "else:\n",
    "    turns_ = [\"B\", \"A\"]\n",
    "    players = [B, A]"
   ]
  },
  {
   "cell_type": "code",
   "execution_count": 8,
   "id": "fd130368-133f-4b84-b738-68ee5ce3c4f0",
   "metadata": {},
   "outputs": [
    {
     "name": "stdout",
     "output_type": "stream",
     "text": [
      "[[22 16 13 24  7]\n",
      " [ 6 18 10  3 20]\n",
      " [ 9 11  8 23  2]\n",
      " [25 15 19  5  1]\n",
      " [14 17 21 12  4]]\n"
     ]
    }
   ],
   "source": [
    "if first_player == user:\n",
    "    print(players[0].grid)\n",
    "else:\n",
    "    print(players[1].grid)"
   ]
  },
  {
   "cell_type": "code",
   "execution_count": null,
   "id": "cc8f5c93-81fa-40a3-b5fc-6a0e210cc1f0",
   "metadata": {},
   "outputs": [
    {
     "name": "stdout",
     "output_type": "stream",
     "text": [
      "Your Turn\n",
      "|22|16|13|24|07|\n",
      "|06|18|10|03|20|\n",
      "|09|11|08|23|02|\n",
      "|25|15|19|05|**|\n",
      "|14|17|21|12|04|\n",
      "\n",
      "Your Message: \n",
      "Computer's Message: \n"
     ]
    },
    {
     "name": "stdin",
     "output_type": "stream",
     "text": [
      "Enter a number:  22\n"
     ]
    },
    {
     "name": "stdout",
     "output_type": "stream",
     "text": [
      "Your Turn\n",
      "|**|16|13|24|07|\n",
      "|06|18|10|03|20|\n",
      "|09|11|08|23|02|\n",
      "|25|15|19|05|**|\n",
      "|14|17|21|12|04|\n",
      "\n",
      "Your Message: \n",
      "Computer's Message: \n",
      "Your Turn\n",
      "|**|16|13|24|07|\n",
      "|06|18|10|03|20|\n",
      "|09|11|08|23|02|\n",
      "|25|15|19|05|**|\n",
      "|14|17|21|**|04|\n",
      "\n",
      "Your Message: \n",
      "Computer's Message: \n"
     ]
    },
    {
     "name": "stdin",
     "output_type": "stream",
     "text": [
      "Enter a number:  07\n"
     ]
    },
    {
     "name": "stdout",
     "output_type": "stream",
     "text": [
      "Your Turn\n",
      "|**|16|13|24|**|\n",
      "|06|18|10|03|20|\n",
      "|09|11|08|23|02|\n",
      "|25|15|19|05|**|\n",
      "|14|17|21|**|04|\n",
      "\n",
      "Your Message: \n",
      "Computer's Message: \n",
      "Your Turn\n",
      "|**|16|13|24|**|\n",
      "|06|18|10|03|20|\n",
      "|09|11|08|23|02|\n",
      "|25|**|19|05|**|\n",
      "|14|17|21|**|04|\n",
      "\n",
      "Your Message: \n",
      "Computer's Message: \n"
     ]
    },
    {
     "name": "stdin",
     "output_type": "stream",
     "text": [
      "Enter a number:  14\n"
     ]
    },
    {
     "name": "stdout",
     "output_type": "stream",
     "text": [
      "Your Turn\n",
      "|**|16|13|24|**|\n",
      "|06|18|10|03|20|\n",
      "|09|11|08|23|02|\n",
      "|25|**|19|05|**|\n",
      "|**|17|21|**|04|\n",
      "\n",
      "Your Message: \n",
      "Computer's Message: \n",
      "Your Turn\n",
      "|**|16|13|24|**|\n",
      "|06|18|10|03|20|\n",
      "|09|11|08|23|**|\n",
      "|25|**|19|05|**|\n",
      "|**|17|21|**|04|\n",
      "\n",
      "Your Message: \n",
      "Computer's Message: \n"
     ]
    },
    {
     "name": "stdin",
     "output_type": "stream",
     "text": [
      "Enter a number:  04\n"
     ]
    },
    {
     "name": "stdout",
     "output_type": "stream",
     "text": [
      "Your Turn\n",
      "|**|16|13|24|**|\n",
      "|06|18|10|03|20|\n",
      "|09|11|08|23|**|\n",
      "|25|**|19|05|**|\n",
      "|**|17|21|**|**|\n",
      "\n",
      "Your Message: \n",
      "Computer's Message: \n",
      "Your Turn\n",
      "|**|16|**|24|**|\n",
      "|06|18|10|03|20|\n",
      "|09|11|08|23|**|\n",
      "|25|**|19|05|**|\n",
      "|**|17|21|**|**|\n",
      "\n",
      "Your Message: \n",
      "Computer's Message: \n"
     ]
    },
    {
     "name": "stdin",
     "output_type": "stream",
     "text": [
      "Enter a number:  08\n"
     ]
    },
    {
     "name": "stdout",
     "output_type": "stream",
     "text": [
      "Your Turn\n",
      "|**|16|**|24|**|\n",
      "|06|18|10|03|20|\n",
      "|09|11|**|23|**|\n",
      "|25|**|19|05|**|\n",
      "|**|17|21|**|**|\n",
      "\n",
      "Your Message: \n",
      "Computer's Message: \n",
      "Your Turn\n",
      "|**|16|**|24|**|\n",
      "|06|18|10|03|20|\n",
      "|09|**|**|23|**|\n",
      "|25|**|19|05|**|\n",
      "|**|17|21|**|**|\n",
      "\n",
      "Your Message: \n",
      "Computer's Message: \n"
     ]
    },
    {
     "name": "stdin",
     "output_type": "stream",
     "text": [
      "Enter a number:  03\n"
     ]
    },
    {
     "name": "stdout",
     "output_type": "stream",
     "text": [
      "Your Turn\n",
      "|**|16|**|24|**|\n",
      "|06|18|10|**|20|\n",
      "|09|**|**|23|**|\n",
      "|25|**|19|05|**|\n",
      "|**|17|21|**|**|\n",
      "\n",
      "Your Message: B\n",
      "Computer's Message: \n",
      "Your Turn\n",
      "|**|16|**|24|**|\n",
      "|06|18|10|**|**|\n",
      "|09|**|**|23|**|\n",
      "|25|**|19|05|**|\n",
      "|**|17|21|**|**|\n",
      "\n",
      "Your Message: BI\n",
      "Computer's Message: B\n"
     ]
    },
    {
     "name": "stdin",
     "output_type": "stream",
     "text": [
      "Enter a number:  18\n"
     ]
    },
    {
     "name": "stdout",
     "output_type": "stream",
     "text": [
      "Your Turn\n",
      "|**|16|**|24|**|\n",
      "|06|**|10|**|**|\n",
      "|09|**|**|23|**|\n",
      "|25|**|19|05|**|\n",
      "|**|17|21|**|**|\n",
      "\n",
      "Your Message: BI\n",
      "Computer's Message: B\n",
      "Your Turn\n",
      "|**|16|**|24|**|\n",
      "|06|**|10|**|**|\n",
      "|09|**|**|23|**|\n",
      "|25|**|19|**|**|\n",
      "|**|17|21|**|**|\n",
      "\n",
      "Your Message: BIN\n",
      "Computer's Message: BI\n"
     ]
    }
   ],
   "source": [
    "turn_number = 0\n",
    "flag = 0\n",
    "while flag==0:\n",
    "    player_ = turn_number % 2\n",
    "    turn_number += 1\n",
    "    player_name = turns_[player_]\n",
    "    if player_ == 0:\n",
    "        user_choice, user_input_list = players[0].next_choice(user_input_list, level=\"medium\")\n",
    "    else:\n",
    "        user_choice, user_input_list = players[1].next_choice(user_input_list, level=\"medium\")\n",
    "    players[0].player_turn(user_choice)\n",
    "    players[1].player_turn(user_choice)\n",
    "    if (first_player == user):\n",
    "        print(\"Your Turn\")\n",
    "        players[0].print_grid()\n",
    "        print()\n",
    "        print(f\"Your Message: {players[0].message}\")\n",
    "        print(f\"Computer's Message: {players[1].message}\")\n",
    "    else:\n",
    "        print(\"Your Turn\")\n",
    "        players[1].print_grid()\n",
    "        print()\n",
    "        print(f\"Your Message: {players[1].message}\")\n",
    "        print(f\"Computer's Message: {players[0].message}\")\n",
    "    \n",
    "    if players[player_].message == \"BINGO\":\n",
    "        if player_name == user:\n",
    "            print(\"You Win\")\n",
    "        else:\n",
    "            print(\"Computer Wins\")\n",
    "        flag = 1"
   ]
  },
  {
   "cell_type": "code",
   "execution_count": null,
   "id": "b0396121-4aa0-4154-a97d-9c7c7de1cf00",
   "metadata": {},
   "outputs": [],
   "source": []
  }
 ],
 "metadata": {
  "kernelspec": {
   "display_name": "Python 3 (ipykernel)",
   "language": "python",
   "name": "python3"
  },
  "language_info": {
   "codemirror_mode": {
    "name": "ipython",
    "version": 3
   },
   "file_extension": ".py",
   "mimetype": "text/x-python",
   "name": "python",
   "nbconvert_exporter": "python",
   "pygments_lexer": "ipython3",
   "version": "3.9.13"
  }
 },
 "nbformat": 4,
 "nbformat_minor": 5
}
